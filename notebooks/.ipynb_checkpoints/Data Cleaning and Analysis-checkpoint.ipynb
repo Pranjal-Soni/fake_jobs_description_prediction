{
 "cells": [
  {
   "cell_type": "code",
   "execution_count": 1,
   "metadata": {},
   "outputs": [],
   "source": [
    "import numpy as np\n",
    "import pandas as pd\n",
    "import nltk\n",
    "from sklearn.feature_extraction.text import TfidfVectorizer\n",
    "WNlemma = nltk.WordNetLemmatizer()\n",
    "%matplotlib inline\n",
    "import matplotlib.pyplot as plt\n",
    "import seaborn as sns"
   ]
  },
  {
   "cell_type": "code",
   "execution_count": 2,
   "metadata": {},
   "outputs": [],
   "source": [
    "#importing the data\n",
    "data = pd.read_csv('../inputs/fake_job_postings.csv')\n",
    "target = data['fraudulent']"
   ]
  },
  {
   "cell_type": "markdown",
   "metadata": {},
   "source": [
    "## Exploratory Data Analysis"
   ]
  },
  {
   "cell_type": "code",
   "execution_count": 3,
   "metadata": {
    "scrolled": true
   },
   "outputs": [
    {
     "name": "stdout",
     "output_type": "stream",
     "text": [
      "job_id                  0.000000\n",
      "title                   0.000000\n",
      "location                1.935123\n",
      "department             64.580537\n",
      "salary_range           83.959732\n",
      "company_profile        18.501119\n",
      "description             0.005593\n",
      "requirements           15.072707\n",
      "benefits               40.324385\n",
      "telecommuting           0.000000\n",
      "has_company_logo        0.000000\n",
      "has_questions           0.000000\n",
      "employment_type        19.412752\n",
      "required_experience    39.429530\n",
      "required_education     45.329978\n",
      "industry               27.421700\n",
      "function               36.101790\n",
      "fraudulent              0.000000\n",
      "dtype: float64\n"
     ]
    }
   ],
   "source": [
    "print((data.isna().sum()/len(data))*100)\n",
    "#drop department and salary_range because it have about 60 persent null values and removing irrelavent data from the dataset\n",
    "data.drop(['job_id','salary_range','department','benefits'],axis=1,inplace=True)"
   ]
  },
  {
   "cell_type": "code",
   "execution_count": 4,
   "metadata": {},
   "outputs": [
    {
     "data": {
      "text/html": [
       "<div>\n",
       "<style scoped>\n",
       "    .dataframe tbody tr th:only-of-type {\n",
       "        vertical-align: middle;\n",
       "    }\n",
       "\n",
       "    .dataframe tbody tr th {\n",
       "        vertical-align: top;\n",
       "    }\n",
       "\n",
       "    .dataframe thead th {\n",
       "        text-align: right;\n",
       "    }\n",
       "</style>\n",
       "<table border=\"1\" class=\"dataframe\">\n",
       "  <thead>\n",
       "    <tr style=\"text-align: right;\">\n",
       "      <th></th>\n",
       "      <th>title</th>\n",
       "      <th>location</th>\n",
       "      <th>company_profile</th>\n",
       "      <th>description</th>\n",
       "      <th>requirements</th>\n",
       "      <th>telecommuting</th>\n",
       "      <th>has_company_logo</th>\n",
       "      <th>has_questions</th>\n",
       "      <th>employment_type</th>\n",
       "      <th>required_experience</th>\n",
       "      <th>required_education</th>\n",
       "      <th>industry</th>\n",
       "      <th>function</th>\n",
       "      <th>fraudulent</th>\n",
       "    </tr>\n",
       "  </thead>\n",
       "  <tbody>\n",
       "    <tr>\n",
       "      <th>0</th>\n",
       "      <td>Marketing Intern</td>\n",
       "      <td>US, NY, New York</td>\n",
       "      <td>We're Food52, and we've created a groundbreaki...</td>\n",
       "      <td>Food52, a fast-growing, James Beard Award-winn...</td>\n",
       "      <td>Experience with content management systems a m...</td>\n",
       "      <td>0</td>\n",
       "      <td>1</td>\n",
       "      <td>0</td>\n",
       "      <td>Other</td>\n",
       "      <td>Internship</td>\n",
       "      <td>NaN</td>\n",
       "      <td>NaN</td>\n",
       "      <td>Marketing</td>\n",
       "      <td>0</td>\n",
       "    </tr>\n",
       "    <tr>\n",
       "      <th>1</th>\n",
       "      <td>Customer Service - Cloud Video Production</td>\n",
       "      <td>NZ, , Auckland</td>\n",
       "      <td>90 Seconds, the worlds Cloud Video Production ...</td>\n",
       "      <td>Organised - Focused - Vibrant - Awesome!Do you...</td>\n",
       "      <td>What we expect from you:Your key responsibilit...</td>\n",
       "      <td>0</td>\n",
       "      <td>1</td>\n",
       "      <td>0</td>\n",
       "      <td>Full-time</td>\n",
       "      <td>Not Applicable</td>\n",
       "      <td>NaN</td>\n",
       "      <td>Marketing and Advertising</td>\n",
       "      <td>Customer Service</td>\n",
       "      <td>0</td>\n",
       "    </tr>\n",
       "    <tr>\n",
       "      <th>2</th>\n",
       "      <td>Commissioning Machinery Assistant (CMA)</td>\n",
       "      <td>US, IA, Wever</td>\n",
       "      <td>Valor Services provides Workforce Solutions th...</td>\n",
       "      <td>Our client, located in Houston, is actively se...</td>\n",
       "      <td>Implement pre-commissioning and commissioning ...</td>\n",
       "      <td>0</td>\n",
       "      <td>1</td>\n",
       "      <td>0</td>\n",
       "      <td>NaN</td>\n",
       "      <td>NaN</td>\n",
       "      <td>NaN</td>\n",
       "      <td>NaN</td>\n",
       "      <td>NaN</td>\n",
       "      <td>0</td>\n",
       "    </tr>\n",
       "    <tr>\n",
       "      <th>3</th>\n",
       "      <td>Account Executive - Washington DC</td>\n",
       "      <td>US, DC, Washington</td>\n",
       "      <td>Our passion for improving quality of life thro...</td>\n",
       "      <td>THE COMPANY: ESRI – Environmental Systems Rese...</td>\n",
       "      <td>EDUCATION: Bachelor’s or Master’s in GIS, busi...</td>\n",
       "      <td>0</td>\n",
       "      <td>1</td>\n",
       "      <td>0</td>\n",
       "      <td>Full-time</td>\n",
       "      <td>Mid-Senior level</td>\n",
       "      <td>Bachelor's Degree</td>\n",
       "      <td>Computer Software</td>\n",
       "      <td>Sales</td>\n",
       "      <td>0</td>\n",
       "    </tr>\n",
       "    <tr>\n",
       "      <th>4</th>\n",
       "      <td>Bill Review Manager</td>\n",
       "      <td>US, FL, Fort Worth</td>\n",
       "      <td>SpotSource Solutions LLC is a Global Human Cap...</td>\n",
       "      <td>JOB TITLE: Itemization Review ManagerLOCATION:...</td>\n",
       "      <td>QUALIFICATIONS:RN license in the State of Texa...</td>\n",
       "      <td>0</td>\n",
       "      <td>1</td>\n",
       "      <td>1</td>\n",
       "      <td>Full-time</td>\n",
       "      <td>Mid-Senior level</td>\n",
       "      <td>Bachelor's Degree</td>\n",
       "      <td>Hospital &amp; Health Care</td>\n",
       "      <td>Health Care Provider</td>\n",
       "      <td>0</td>\n",
       "    </tr>\n",
       "  </tbody>\n",
       "</table>\n",
       "</div>"
      ],
      "text/plain": [
       "                                       title            location  \\\n",
       "0                           Marketing Intern    US, NY, New York   \n",
       "1  Customer Service - Cloud Video Production      NZ, , Auckland   \n",
       "2    Commissioning Machinery Assistant (CMA)       US, IA, Wever   \n",
       "3          Account Executive - Washington DC  US, DC, Washington   \n",
       "4                        Bill Review Manager  US, FL, Fort Worth   \n",
       "\n",
       "                                     company_profile  \\\n",
       "0  We're Food52, and we've created a groundbreaki...   \n",
       "1  90 Seconds, the worlds Cloud Video Production ...   \n",
       "2  Valor Services provides Workforce Solutions th...   \n",
       "3  Our passion for improving quality of life thro...   \n",
       "4  SpotSource Solutions LLC is a Global Human Cap...   \n",
       "\n",
       "                                         description  \\\n",
       "0  Food52, a fast-growing, James Beard Award-winn...   \n",
       "1  Organised - Focused - Vibrant - Awesome!Do you...   \n",
       "2  Our client, located in Houston, is actively se...   \n",
       "3  THE COMPANY: ESRI – Environmental Systems Rese...   \n",
       "4  JOB TITLE: Itemization Review ManagerLOCATION:...   \n",
       "\n",
       "                                        requirements  telecommuting  \\\n",
       "0  Experience with content management systems a m...              0   \n",
       "1  What we expect from you:Your key responsibilit...              0   \n",
       "2  Implement pre-commissioning and commissioning ...              0   \n",
       "3  EDUCATION: Bachelor’s or Master’s in GIS, busi...              0   \n",
       "4  QUALIFICATIONS:RN license in the State of Texa...              0   \n",
       "\n",
       "   has_company_logo  has_questions employment_type required_experience  \\\n",
       "0                 1              0           Other          Internship   \n",
       "1                 1              0       Full-time      Not Applicable   \n",
       "2                 1              0             NaN                 NaN   \n",
       "3                 1              0       Full-time    Mid-Senior level   \n",
       "4                 1              1       Full-time    Mid-Senior level   \n",
       "\n",
       "  required_education                   industry              function  \\\n",
       "0                NaN                        NaN             Marketing   \n",
       "1                NaN  Marketing and Advertising      Customer Service   \n",
       "2                NaN                        NaN                   NaN   \n",
       "3  Bachelor's Degree          Computer Software                 Sales   \n",
       "4  Bachelor's Degree     Hospital & Health Care  Health Care Provider   \n",
       "\n",
       "   fraudulent  \n",
       "0           0  \n",
       "1           0  \n",
       "2           0  \n",
       "3           0  \n",
       "4           0  "
      ]
     },
     "execution_count": 4,
     "metadata": {},
     "output_type": "execute_result"
    }
   ],
   "source": [
    "data.head()"
   ]
  },
  {
   "cell_type": "code",
   "execution_count": 5,
   "metadata": {},
   "outputs": [
    {
     "data": {
      "image/png": "[encoded data removed]",
      "text/plain": [
       "<Figure size 864x432 with 1 Axes>"
      ]
     },
     "metadata": {
      "needs_background": "light"
     },
     "output_type": "display_data"
    }
   ],
   "source": [
    "#Plotting the bar plot jobs funtion counts\n",
    "plt.figure(figsize=(12,6))\n",
    "plt.bar(data.function.value_counts().index[:20],data.function.value_counts()[:20])\n",
    "plt.title('Top 20 Job Functions')\n",
    "plt.xlabel('Job function Name')\n",
    "plt.ylabel(\"No. of Job Functions\")\n",
    "degrees = 75\n",
    "plt.xticks(rotation=degrees)\n",
    "plt.show()"
   ]
  },
  {
   "cell_type": "code",
   "execution_count": 6,
   "metadata": {},
   "outputs": [
    {
     "data": {
      "text/plain": [
       "Text(0, 0.5, 'Industry Name')"
      ]
     },
     "execution_count": 6,
     "metadata": {},
     "output_type": "execute_result"
    },
    {
     "data": {
      "image/png": "[encoded data removed]",
      "text/plain": [
       "<Figure size 720x432 with 1 Axes>"
      ]
     },
     "metadata": {
      "needs_background": "light"
     },
     "output_type": "display_data"
    }
   ],
   "source": [
    "#plot top 20 industries which give most of job posting\n",
    "plt.figure(figsize=(10,6))\n",
    "plt.barh(data.industry.value_counts()[:20].index,data.industry.value_counts()[:20])\n",
    "plt.title('Top 20 Industries With More Jobs')\n",
    "plt.xlabel('No. of Jobs')\n",
    "plt.ylabel(\"Industry Name\")"
   ]
  },
  {
   "cell_type": "code",
   "execution_count": 7,
   "metadata": {},
   "outputs": [
    {
     "name": "stdout",
     "output_type": "stream",
     "text": [
      "Number of fake Job description:  866\n",
      "Number of correct job description:  17014\n"
     ]
    }
   ],
   "source": [
    "#separate both data to analyse them\n",
    "fradulent_data = data[data.fraudulent==1]\n",
    "non_fradulent_data = data[data.fraudulent==0]\n",
    "\n",
    "print('Number of fake Job description: ',len(fradulent_data))\n",
    "print('Number of correct job description: ',len(non_fradulent_data))"
   ]
  },
  {
   "cell_type": "code",
   "execution_count": 8,
   "metadata": {
    "scrolled": false
   },
   "outputs": [
    {
     "data": {
      "text/plain": [
       "title                   0.000000\n",
       "location                2.193995\n",
       "company_profile        67.782910\n",
       "description             0.115473\n",
       "requirements           17.782910\n",
       "telecommuting           0.000000\n",
       "has_company_logo        0.000000\n",
       "has_questions           0.000000\n",
       "employment_type        27.829099\n",
       "required_experience    50.230947\n",
       "required_education     52.078522\n",
       "industry               31.755196\n",
       "function               38.914550\n",
       "fraudulent              0.000000\n",
       "dtype: float64"
      ]
     },
     "execution_count": 8,
     "metadata": {},
     "output_type": "execute_result"
    }
   ],
   "source": [
    "#Missing values in fake jobs data\n",
    "fradulent_data.isna().sum()/866*100"
   ]
  },
  {
   "cell_type": "code",
   "execution_count": 9,
   "metadata": {},
   "outputs": [
    {
     "data": {
      "text/plain": [
       "title                   0.000000\n",
       "location                1.921947\n",
       "company_profile        15.992712\n",
       "description             0.000000\n",
       "requirements           14.934760\n",
       "telecommuting           0.000000\n",
       "has_company_logo        0.000000\n",
       "has_questions           0.000000\n",
       "employment_type        18.984366\n",
       "required_experience    38.879746\n",
       "required_education     44.986482\n",
       "industry               27.201128\n",
       "function               35.958622\n",
       "fraudulent              0.000000\n",
       "dtype: float64"
      ]
     },
     "execution_count": 9,
     "metadata": {},
     "output_type": "execute_result"
    }
   ],
   "source": [
    "#missing values in correct jobs\n",
    "non_fradulent_data.isna().sum()/len(non_fradulent_data)*100"
   ]
  },
  {
   "cell_type": "code",
   "execution_count": 10,
   "metadata": {},
   "outputs": [],
   "source": [
    "#removing target values form dataset\n",
    "data.drop(['fraudulent'],axis=1,inplace=True)"
   ]
  },
  {
   "cell_type": "code",
   "execution_count": 11,
   "metadata": {},
   "outputs": [
    {
     "data": {
      "text/plain": [
       "Index(['title', 'location', 'company_profile', 'description', 'requirements',\n",
       "       'telecommuting', 'has_company_logo', 'has_questions', 'employment_type',\n",
       "       'required_experience', 'required_education', 'industry', 'function'],\n",
       "      dtype='object')"
      ]
     },
     "execution_count": 11,
     "metadata": {},
     "output_type": "execute_result"
    }
   ],
   "source": [
    "data.columns"
   ]
  },
  {
   "cell_type": "markdown",
   "metadata": {},
   "source": [
    "# Cleaning and preprocessing the data"
   ]
  },
  {
   "cell_type": "code",
   "execution_count": 12,
   "metadata": {},
   "outputs": [],
   "source": [
    "import re\n",
    "def remove_links(text):\n",
    "    text  = re.sub(r'http://[\\w|\\S]+',' ',str(text))\n",
    "    return text"
   ]
  },
  {
   "cell_type": "code",
   "execution_count": 13,
   "metadata": {},
   "outputs": [],
   "source": [
    "def lower_text(text):\n",
    "    text = str(text)\n",
    "    text = ' '.join(x.lower() for x in text.split())\n",
    "    return text"
   ]
  },
  {
   "cell_type": "code",
   "execution_count": 14,
   "metadata": {},
   "outputs": [],
   "source": [
    "from nltk.corpus import stopwords\n",
    "stop = stopwords.words('english')\n",
    "def remove_stopWords(text):\n",
    "    text = str(text)\n",
    "    text = ''.join( x for x in text if x.split() not in stop)\n",
    "    return(text)"
   ]
  },
  {
   "cell_type": "code",
   "execution_count": 15,
   "metadata": {
    "scrolled": true
   },
   "outputs": [],
   "source": [
    "def remove_non_imp_words(series):\n",
    "    most_freq = pd.Series(' '.join(series).split()).value_counts()[:30]\n",
    "    less_freq = pd.Series(' '.join(series).split()).value_counts()[-30:]\n",
    "    series = series.apply(lambda x: \" \".join(x for x in x.split() if x not in most_freq))\n",
    "    series = series.apply(lambda x: \" \".join(x for x in x.split() if x not in less_freq))\n",
    "    return series\n",
    "\n",
    "def remove_nan(text):\n",
    "    if text == 'nan' or text == '':\n",
    "        text = 'not given'\n",
    "    return text"
   ]
  },
  {
   "cell_type": "code",
   "execution_count": 16,
   "metadata": {},
   "outputs": [],
   "source": [
    "def data_cleaning(feature):\n",
    "    feature = feature.apply(lambda x : remove_links(x))\n",
    "    feature = feature.apply(lambda x : lower_text(x))\n",
    "    feature = feature.apply(lambda x : remove_stopWords(x))\n",
    "    feature = feature.str.replace('[^\\w\\s]',' 111')\n",
    "    feature = remove_non_imp_words(feature)\n",
    "    feature = feature.apply(lambda x: ' '.join([WNlemma.lemmatize(word) for word in x.split()]))\n",
    "    feature = feature.apply(lambda x : remove_nan(x))\n",
    "    return feature\n"
   ]
  },
  {
   "cell_type": "code",
   "execution_count": 17,
   "metadata": {},
   "outputs": [],
   "source": [
    "#filling null values \n",
    "data['required_education'].fillna('no_info_about_education',inplace = True)\n",
    "data['employment_type'].fillna('no_info_about_employment',inplace = True)\n",
    "data['required_experience'].fillna('experience_not_asked',inplace = True)\n",
    "data['industry'].fillna('industry_not_given',inplace = True)\n",
    "data['function'].fillna('function_not_given',inplace = True)"
   ]
  },
  {
   "cell_type": "code",
   "execution_count": 18,
   "metadata": {},
   "outputs": [
    {
     "name": "stderr",
     "output_type": "stream",
     "text": [
      "posx and posy should be finite values\n",
      "posx and posy should be finite values\n",
      "posx and posy should be finite values\n",
      "posx and posy should be finite values\n",
      "posx and posy should be finite values\n",
      "posx and posy should be finite values\n"
     ]
    },
    {
     "data": {
      "image/png": "[encoded data removed]",
      "text/plain": [
       "<Figure size 2160x2160 with 3 Axes>"
      ]
     },
     "metadata": {
      "needs_background": "light"
     },
     "output_type": "display_data"
    }
   ],
   "source": [
    "import matplotlib.gridspec as gridspec # to do the grid of plots\n",
    "grid = gridspec.GridSpec(3, 3, wspace=0.5, hspace=0.5) # The grid of chart\n",
    "plt.figure(figsize=(30,30))\n",
    "\n",
    "df=data[['employment_type','required_education','required_experience']]\n",
    "dff=['employment_type','required_education','required_experience']\n",
    "#sns.boxplot(x=data['industry'].unique())\n",
    "\n",
    "for n,col in enumerate(df[dff]):\n",
    "    \n",
    "    ax = plt.subplot(grid[n]) # feeding the figure of grid\n",
    "    sns.countplot(x=col, data=df, hue=target, palette='Set2') \n",
    "    ax.set_ylabel('Count', fontsize=12) # y axis label\n",
    "    ax.set_title(f'{col} Distribution by Target', fontsize=15) # title label\n",
    "    ax.set_xlabel(f'{col} values', fontsize=12) # x axis label\n",
    "    xlabels = ax.get_xticklabels() \n",
    "    ylabels = ax.get_yticklabels() \n",
    "    ax.set_xticklabels(xlabels,  fontsize=12)\n",
    "    ax.set_yticklabels(ylabels,  fontsize=10)\n",
    "    plt.legend(fontsize=8)\n",
    "    plt.xticks(rotation=90) \n",
    "    total = len(df)\n",
    "    \n",
    "    sizes=[] # Get highest values in y\n",
    "    for p in ax.patches: # loop to all objects\n",
    "        height = p.get_height()\n",
    "        sizes.append(height)\n",
    "        ax.text(p.get_x()+p.get_width()/2.,\n",
    "                height + 3,\n",
    "                '{:1.2f}%'.format(height/total*100),\n",
    "                ha=\"center\", fontsize=8) \n",
    "    ax.set_ylim(0, max(sizes) * 1.15) #set y limit based on highest heights\n",
    "\n",
    "pl\n",
    "    \n",
    "   \n",
    "\n",
    "\n",
    "\n"
   ]
  },
  {
   "cell_type": "code",
   "execution_count": 19,
   "metadata": {},
   "outputs": [
    {
     "name": "stderr",
     "output_type": "stream",
     "text": [
      "C:\\Users\\Pranjal Soni\\AppData\\Roaming\\Python\\Python37\\site-packages\\ipykernel_launcher.py:6: SettingWithCopyWarning: \n",
      "A value is trying to be set on a copy of a slice from a DataFrame\n",
      "\n",
      "See the caveats in the documentation: https://pandas.pydata.org/pandas-docs/stable/user_guide/indexing.html#returning-a-view-versus-a-copy\n",
      "  \n"
     ]
    }
   ],
   "source": [
    "#dealing with company profile feature\n",
    "for i in range(len(data.company_profile)):\n",
    "    if data.company_profile[i]=='NaN':\n",
    "        data.company_profile[i] = 'company_profile_not_given'\n",
    "    else:\n",
    "        data.company_profile[i] = 'company_profile_given'"
   ]
  },
  {
   "cell_type": "code",
   "execution_count": 20,
   "metadata": {},
   "outputs": [
    {
     "name": "stdout",
     "output_type": "stream",
     "text": [
      "Index(['description', 'requirements', 'telecommuting', 'has_company_logo',\n",
      "       'has_questions', 'Contract', 'Full-time', 'Other', 'Part-time',\n",
      "       'Temporary',\n",
      "       ...\n",
      "       'Quality Assurance', 'Research', 'Sales', 'Science',\n",
      "       'Strategy/Planning', 'Supply Chain', 'Training', 'Writing/Editing',\n",
      "       'function_not_given', 'company_profile_given'],\n",
      "      dtype='object', length=204)\n"
     ]
    }
   ],
   "source": [
    "#dealing catogorical data\n",
    "cat_cols = ['employment_type','required_experience','required_education','industry','function','company_profile']\n",
    "for c in cat_cols:\n",
    "    encoded = pd.get_dummies(data[c])\n",
    "    data = pd.concat([data,encoded],axis = 1 )\n",
    "cat_cols = ['employment_type','required_experience','required_education','industry','function','title','location','company_profile']\n",
    "data.drop(cat_cols,axis=1,inplace=True)\n",
    "print(data.columns)"
   ]
  },
  {
   "cell_type": "code",
   "execution_count": null,
   "metadata": {},
   "outputs": [],
   "source": [
    "#dealing with text data\n",
    "description = data['description']+ ' ' +  data['requirements']\n",
    "#data.drop(['description','requirements'],axis=1,inplace=True)\n",
    "description = data_cleaning(description)\n",
    "#description"
   ]
  },
  {
   "cell_type": "code",
   "execution_count": null,
   "metadata": {},
   "outputs": [],
   "source": [
    "from wordcloud import WordCloud\n",
    "wordcloud = WordCloud(width = 800, height = 800, \n",
    "                background_color ='black', \n",
    "                stopwords = stop, \n",
    "                min_font_size = 10).generate(\"\".join(description)) \n",
    "  \n",
    "# plot the WordCloud image                        \n",
    "plt.figure(figsize = (8, 8), facecolor = None) \n",
    "plt.imshow(wordcloud) \n",
    "plt.axis(\"off\") \n",
    "plt.tight_layout(pad = 0) \n",
    "  \n",
    "plt.show() "
   ]
  },
  {
   "cell_type": "code",
   "execution_count": null,
   "metadata": {},
   "outputs": [],
   "source": [
    "tfidf = TfidfVectorizer( min_df = 0.05, ngram_range=(1,3))\n",
    "tfidf_features = tfidf.fit_transform(description) \n",
    "tfidf_vect_df = pd.DataFrame(tfidf_features.todense(), columns = tfidf.get_feature_names())\n",
    "data = pd.concat([data, tfidf_vect_df], axis = 1)\n",
    "data.drop(['description','requirements'],axis = 1 , inplace = True)"
   ]
  },
  {
   "cell_type": "code",
   "execution_count": null,
   "metadata": {},
   "outputs": [],
   "source": [
    "data.shape"
   ]
  },
  {
   "cell_type": "code",
   "execution_count": null,
   "metadata": {},
   "outputs": [],
   "source": [
    "data.head()"
   ]
  },
  {
   "cell_type": "markdown",
   "metadata": {},
   "source": [
    "# Applying different classification algorithms"
   ]
  },
  {
   "cell_type": "code",
   "execution_count": 26,
   "metadata": {},
   "outputs": [],
   "source": [
    "from sklearn.model_selection import train_test_split\n",
    "X = data\n",
    "y = np.array(target)\n",
    "y = y.reshape((17880,))"
   ]
  },
  {
   "cell_type": "code",
   "execution_count": 24,
   "metadata": {},
   "outputs": [],
   "source": [
    "X = X.to_numpy()"
   ]
  },
  {
   "cell_type": "code",
   "execution_count": null,
   "metadata": {},
   "outputs": [],
   "source": [
    "from sklearn.metrics import accuracy_score ,precision_score,recall_score\n",
    "from sklearn.model_selection import StratifiedKFold\n",
    "from sklearn.ensemble import RandomForestClassifier\n",
    "from sklearn.metrics import confusion_matrix"
   ]
  },
  {
   "cell_type": "code",
   "execution_count": 25,
   "metadata": {},
   "outputs": [
    {
     "name": "stdout",
     "output_type": "stream",
     "text": [
      ">Train: 0=13611, 1=693, Test: 0=3403, 1=173\n",
      "Train Data Accuracy :  0.9964345637583892\n",
      "Test Data Accuracy :  0.9773489932885906\n",
      "\n",
      "Confusion Matrix of Train Data :  [[13611     0]\n",
      " [   51   642]]\n",
      "Confusion Matrix of Test Data :  [[3402    1]\n",
      " [  80   93]]\n",
      "\n",
      "Train Data Precision :  1.0\n",
      "Test Data Precision :  0.9893617021276596\n",
      "\n",
      "Train Data Recall :  0.9264069264069265\n",
      "Test Data Recall :  0.5375722543352601\n",
      "\n",
      ">Train: 0=13611, 1=693, Test: 0=3403, 1=173\n",
      "Train Data Accuracy :  0.9964345637583892\n",
      "Test Data Accuracy :  0.9756711409395973\n",
      "\n",
      "Confusion Matrix of Train Data :  [[13610     1]\n",
      " [   50   643]]\n",
      "Confusion Matrix of Test Data :  [[3403    0]\n",
      " [  87   86]]\n",
      "\n",
      "Train Data Precision :  0.9984472049689441\n",
      "Test Data Precision :  1.0\n",
      "\n",
      "Train Data Recall :  0.9278499278499278\n",
      "Test Data Recall :  0.49710982658959535\n",
      "\n",
      ">Train: 0=13611, 1=693, Test: 0=3403, 1=173\n",
      "Train Data Accuracy :  0.9969938478747203\n",
      "Test Data Accuracy :  0.9765100671140939\n",
      "\n",
      "Confusion Matrix of Train Data :  [[13610     1]\n",
      " [   42   651]]\n",
      "Confusion Matrix of Test Data :  [[3402    1]\n",
      " [  83   90]]\n",
      "\n",
      "Train Data Precision :  0.9984662576687117\n",
      "Test Data Precision :  0.989010989010989\n",
      "\n",
      "Train Data Recall :  0.9393939393939394\n",
      "Test Data Recall :  0.5202312138728323\n",
      "\n",
      ">Train: 0=13611, 1=693, Test: 0=3403, 1=173\n",
      "Train Data Accuracy :  0.9967142058165548\n",
      "Test Data Accuracy :  0.9767897091722595\n",
      "\n",
      "Confusion Matrix of Train Data :  [[13610     1]\n",
      " [   46   647]]\n",
      "Confusion Matrix of Test Data :  [[3402    1]\n",
      " [  82   91]]\n",
      "\n",
      "Train Data Precision :  0.9984567901234568\n",
      "Test Data Precision :  0.9891304347826086\n",
      "\n",
      "Train Data Recall :  0.9336219336219336\n",
      "Test Data Recall :  0.5260115606936416\n",
      "\n",
      ">Train: 0=13612, 1=692, Test: 0=3402, 1=174\n",
      "Train Data Accuracy :  0.9961549217002237\n",
      "Test Data Accuracy :  0.9756711409395973\n",
      "\n",
      "Confusion Matrix of Train Data :  [[13611     1]\n",
      " [   54   638]]\n",
      "Confusion Matrix of Test Data :  [[3402    0]\n",
      " [  87   87]]\n",
      "\n",
      "Train Data Precision :  0.9984350547730829\n",
      "Test Data Precision :  1.0\n",
      "\n",
      "Train Data Recall :  0.9219653179190751\n",
      "Test Data Recall :  0.5\n",
      "\n"
     ]
    }
   ],
   "source": [
    "rf_clf = RandomForestClassifier(n_jobs=-1)\n",
    "kfold = StratifiedKFold(n_splits=5,shuffle=True,random_state=1)\n",
    "for train_ix, test_ix in kfold.split(X, y):\n",
    "    #select rows\n",
    "    train_X, test_X = X[train_ix], X[test_ix]\n",
    "    train_y, test_y = y[train_ix], y[test_ix]\n",
    "    # summarize train and test composition\n",
    "    train_0, train_1 = len(train_y[train_y==0]), len(train_y[train_y==1])\n",
    "    test_0, test_1 = len(test_y[test_y==0]), len(test_y[test_y==1])\n",
    "    print('>Train: 0=%d, 1=%d, Test: 0=%d, 1=%d' % (train_0, train_1, test_0, test_1))\n",
    "    \n",
    "    #fit the model with training data\n",
    "    rf_clf.fit(train_X,train_y)\n",
    "    \n",
    "    y_train_pred = rf_clf.predict(train_X)\n",
    "    y_test_pred = rf_clf.predict(test_X)\n",
    "    #evalute the model\n",
    "    print('Train Data Accuracy : ',accuracy_score(train_y,y_train_pred))\n",
    "    print('Test Data Accuracy : ',accuracy_score(test_y,y_test_pred))\n",
    "    \n",
    "    print()\n",
    "    print('Confusion Matrix of Train Data : ',confusion_matrix(train_y,y_train_pred))\n",
    "    print('Confusion Matrix of Test Data : ',confusion_matrix(test_y,y_test_pred))\n",
    "    print()\n",
    "    #pricision and recall for test and train data\n",
    "    print('Train Data Precision : ',precision_score(train_y,y_train_pred))\n",
    "    print('Test Data Precision : ',precision_score(test_y,y_test_pred))\n",
    "    print()\n",
    "    print('Train Data Recall : ',recall_score(train_y,y_train_pred))\n",
    "    print('Test Data Recall : ',recall_score(test_y,y_test_pred))\n",
    "    print()"
   ]
  },
  {
   "cell_type": "code",
   "execution_count": 26,
   "metadata": {},
   "outputs": [
    {
     "data": {
      "text/plain": [
       "[<matplotlib.lines.Line2D at 0x20e4386aa48>]"
      ]
     },
     "execution_count": 26,
     "metadata": {},
     "output_type": "execute_result"
    },
    {
     "data": {
      "image/png": "[encoded data removed]",
      "text/plain": [
       "<Figure size 432x288 with 1 Axes>"
      ]
     },
     "metadata": {
      "needs_background": "light"
     },
     "output_type": "display_data"
    }
   ],
   "source": [
    "plt.plot(rf_clf.feature_importances_)"
   ]
  },
  {
   "cell_type": "code",
   "execution_count": 53,
   "metadata": {},
   "outputs": [],
   "source": [
    "imp_features = rf_clf.feature_importances_>0.003"
   ]
  },
  {
   "cell_type": "code",
   "execution_count": 54,
   "metadata": {},
   "outputs": [],
   "source": [
    "imp_feature_indexes = []\n",
    "for i in range(len(imp_features)):\n",
    "    if imp_features[i] == True:\n",
    "        imp_feature_indexes.append(i)"
   ]
  },
  {
   "cell_type": "code",
   "execution_count": 55,
   "metadata": {},
   "outputs": [
    {
     "name": "stdout",
     "output_type": "stream",
     "text": [
      "has_company_logo ,has_questions ,Full-time ,Other ,Part-time ,no_info_about_employment ,Associate ,Entry level ,Executive ,Internship ,Mid-Senior level ,experience_not_asked ,Associate Degree ,Master's Degree ,Unspecified ,Vocational - Degree ,no_info_about_education ,Airlines/Aviation ,Automotive ,Biotechnology ,Chemicals ,Civil Engineering ,Computer Hardware ,Defense & Space ,Events Services ,Executive Office ,Health, Wellness and Fitness ,Higher Education ,Hospital & Health Care ,Information Technology and Services ,Insurance ,Internet ,Law Enforcement ,Libraries ,Mechanical or Industrial Engineering ,Media Production ,Mental Health Care ,Military ,Nanotechnology ,Online Media ,Outsourcing/Offshoring ,Performing Arts ,Program Development ,Public Policy ,Public Safety ,Ranching ,Religious Institutions ,Renewables & Environment ,Research ,Semiconductors ,Shipbuilding ,Translation and Localization ,Utilities ,Warehousing ,Writing and Editing ,industry_not_given ,Accounting/Auditing ,Business Analyst ,Customer Service ,Health Care Provider ,Information Technology ,Legal ,Supply Chain ,Writing/Editing ,function_not_given ,1111 ,1113 ,1115 ,111amp ,111excellent ,111experience ,111oriented ,111paced ,111re looking ,111the ,111this ,111to ,111up ,about ,additional ,agency ,analytical ,apply ,assist ,at ,at least ,attention ,basic ,basis ,being ,big ,both ,building ,but ,call ,career ,change ,client ,closely ,come ,comfortable ,creating ,creative ,cross ,data ,database ,106\n"
     ]
    }
   ],
   "source": [
    "for i in imp_feature_indexes:\n",
    "    print(data.columns[i],end=\" ,\")\n",
    "print(len(imp_feature_indexes))"
   ]
  },
  {
   "cell_type": "code",
   "execution_count": 22,
   "metadata": {},
   "outputs": [
    {
     "data": {
      "text/plain": [
       "Index(['telecommuting', 'has_company_logo', 'has_questions', 'Contract',\n",
       "       'Full-time', 'Other', 'Part-time', 'Temporary', 'no info', 'Associate',\n",
       "       ...\n",
       "       'word', 'working', 'world', 'would', 'writing', 'written',\n",
       "       'written communication', 'written verbal', 'year', 'your'],\n",
       "      dtype='object', length=726)"
      ]
     },
     "execution_count": 22,
     "metadata": {},
     "output_type": "execute_result"
    }
   ],
   "source": [
    "data.columns"
   ]
  },
  {
   "cell_type": "code",
   "execution_count": 58,
   "metadata": {},
   "outputs": [
    {
     "name": "stdout",
     "output_type": "stream",
     "text": [
      ">Train: 0=13611, 1=693, Test: 0=3403, 1=173\n",
      "Train Data Accuracy :  0.9953859060402684\n",
      "Test Data Accuracy :  0.9765100671140939\n",
      "\n",
      "Confusion Matrix of Train Data :  [[13611     0]\n",
      " [   66   627]]\n",
      "Confusion Matrix of Test Data :  [[3401    2]\n",
      " [  82   91]]\n",
      "\n",
      "Train Data Precision :  1.0\n",
      "Test Data Precision :  0.978494623655914\n",
      "\n",
      "Train Data Recall :  0.9047619047619048\n",
      "Test Data Recall :  0.5260115606936416\n",
      "\n",
      ">Train: 0=13611, 1=693, Test: 0=3403, 1=173\n",
      "Train Data Accuracy :  0.9951062639821029\n",
      "Test Data Accuracy :  0.9773489932885906\n",
      "\n",
      "Confusion Matrix of Train Data :  [[13608     3]\n",
      " [   67   626]]\n",
      "Confusion Matrix of Test Data :  [[3400    3]\n",
      " [  78   95]]\n",
      "\n",
      "Train Data Precision :  0.9952305246422893\n",
      "Test Data Precision :  0.9693877551020408\n",
      "\n",
      "Train Data Recall :  0.9033189033189033\n",
      "Test Data Recall :  0.5491329479768786\n",
      "\n",
      ">Train: 0=13611, 1=693, Test: 0=3403, 1=173\n",
      "Train Data Accuracy :  0.9954558165548099\n",
      "Test Data Accuracy :  0.9779082774049217\n",
      "\n",
      "Confusion Matrix of Train Data :  [[13608     3]\n",
      " [   62   631]]\n",
      "Confusion Matrix of Test Data :  [[3399    4]\n",
      " [  75   98]]\n",
      "\n",
      "Train Data Precision :  0.9952681388012619\n",
      "Test Data Precision :  0.9607843137254902\n",
      "\n",
      "Train Data Recall :  0.9105339105339105\n",
      "Test Data Recall :  0.5664739884393064\n",
      "\n",
      ">Train: 0=13611, 1=693, Test: 0=3403, 1=173\n",
      "Train Data Accuracy :  0.9953859060402684\n",
      "Test Data Accuracy :  0.9765100671140939\n",
      "\n",
      "Confusion Matrix of Train Data :  [[13609     2]\n",
      " [   64   629]]\n",
      "Confusion Matrix of Test Data :  [[3396    7]\n",
      " [  77   96]]\n",
      "\n",
      "Train Data Precision :  0.9968304278922345\n",
      "Test Data Precision :  0.9320388349514563\n",
      "\n",
      "Train Data Recall :  0.9076479076479076\n",
      "Test Data Recall :  0.5549132947976878\n",
      "\n",
      ">Train: 0=13612, 1=692, Test: 0=3402, 1=174\n",
      "Train Data Accuracy :  0.9949664429530202\n",
      "Test Data Accuracy :  0.9756711409395973\n",
      "\n",
      "Confusion Matrix of Train Data :  [[13608     4]\n",
      " [   68   624]]\n",
      "Confusion Matrix of Test Data :  [[3394    8]\n",
      " [  79   95]]\n",
      "\n",
      "Train Data Precision :  0.9936305732484076\n",
      "Test Data Precision :  0.9223300970873787\n",
      "\n",
      "Train Data Recall :  0.9017341040462428\n",
      "Test Data Recall :  0.5459770114942529\n",
      "\n"
     ]
    }
   ],
   "source": [
    "from sklearn.feature_selection import SelectFromModel\n",
    "\n",
    "rf_clf = RandomForestClassifier(n_jobs=-1)\n",
    "kfold = StratifiedKFold(n_splits=5,shuffle=True,random_state=1)\n",
    "for train_ix, test_ix in kfold.split(X, y):\n",
    "    #select rows\n",
    "    train_X, test_X = X[train_ix], X[test_ix]\n",
    "    train_y, test_y = y[train_ix], y[test_ix]\n",
    "    # summarize train and test composition\n",
    "    train_0, train_1 = len(train_y[train_y==0]), len(train_y[train_y==1])\n",
    "    test_0, test_1 = len(test_y[test_y==0]), len(test_y[test_y==1])\n",
    "    print('>Train: 0=%d, 1=%d, Test: 0=%d, 1=%d' % (train_0, train_1, test_0, test_1))\n",
    "    \n",
    "    #fit the model with training data\n",
    "    rf_clf.fit(train_X,train_y)\n",
    "    \n",
    "    #feature_selection\n",
    "    sfm = SelectFromModel(rf_clf,threshold=0.003)\n",
    "    sfm.fit(train_X, train_y)\n",
    "    \n",
    "    X_important_train = sfm.transform(train_X)\n",
    "    X_important_test = sfm.transform(test_X)\n",
    "    \n",
    "    rf_clf = RandomForestClassifier(n_jobs=-1)\n",
    "    rf_clf.fit(X_important_train, train_y)\n",
    "    y_train_pred = rf_clf.predict(X_important_train)\n",
    "    y_test_pred = rf_clf.predict(X_important_test)\n",
    "    #evalute the model\n",
    "    print('Train Data Accuracy : ',accuracy_score(train_y,y_train_pred))\n",
    "    print('Test Data Accuracy : ',accuracy_score(test_y,y_test_pred))\n",
    "    \n",
    "    print()\n",
    "    print('Confusion Matrix of Train Data : ',confusion_matrix(train_y,y_train_pred))\n",
    "    print('Confusion Matrix of Test Data : ',confusion_matrix(test_y,y_test_pred))\n",
    "    print()\n",
    "    #pricision and recall for test and train data\n",
    "    print('Train Data Precision : ',precision_score(train_y,y_train_pred))\n",
    "    print('Test Data Precision : ',precision_score(test_y,y_test_pred))\n",
    "    print()\n",
    "    print('Train Data Recall : ',recall_score(train_y,y_train_pred))\n",
    "    print('Test Data Recall : ',recall_score(test_y,y_test_pred))\n",
    "    print()"
   ]
  },
  {
   "cell_type": "code",
   "execution_count": 59,
   "metadata": {},
   "outputs": [
    {
     "name": "stdout",
     "output_type": "stream",
     "text": [
      "has_company_logo, has_questions, Full-time, Part-time, no_info_about_employment, Entry level, Mid-Senior level, experience_not_asked, Bachelor's Degree, High School or equivalent, no_info_about_education, Accounting, Hospital & Health Care, Oil & Energy, industry_not_given, Administrative, function_not_given, 111amp, 111time, ability, any, at, call, can, communication, company, computer, control, data, duty, engineering, environment, equipment, excel, field, follow, from, full, get, high, home, include, industry, information, internet, job, looking, maintenance, manager, must, no, not, office, own, per, perform, phone, position, process, product, project, required, school diploma, seeking, service, standard, start, system, this, time, timely, word, year, your, "
     ]
    }
   ],
   "source": [
    "for feature_list_index in sfm.get_support(indices=True):\n",
    "    print(data.columns[feature_list_index],end= \", \")"
   ]
  },
  {
   "cell_type": "code",
   "execution_count": null,
   "metadata": {},
   "outputs": [],
   "source": []
  },
  {
   "cell_type": "code",
   "execution_count": 26,
   "metadata": {
    "scrolled": true
   },
   "outputs": [
    {
     "name": "stderr",
     "output_type": "stream",
     "text": [
      "C:\\ProgramData\\Anaconda3\\lib\\site-packages\\sklearn\\metrics\\_classification.py:1272: UndefinedMetricWarning: Precision is ill-defined and being set to 0.0 due to no predicted samples. Use `zero_division` parameter to control this behavior.\n",
      "  _warn_prf(average, modifier, msg_start, len(result))\n",
      "C:\\ProgramData\\Anaconda3\\lib\\site-packages\\sklearn\\metrics\\_classification.py:1272: UndefinedMetricWarning: Precision is ill-defined and being set to 0.0 due to no predicted samples. Use `zero_division` parameter to control this behavior.\n",
      "  _warn_prf(average, modifier, msg_start, len(result))\n",
      "C:\\ProgramData\\Anaconda3\\lib\\site-packages\\sklearn\\metrics\\_classification.py:1272: UndefinedMetricWarning: Precision is ill-defined and being set to 0.0 due to no predicted samples. Use `zero_division` parameter to control this behavior.\n",
      "  _warn_prf(average, modifier, msg_start, len(result))\n",
      "C:\\ProgramData\\Anaconda3\\lib\\site-packages\\sklearn\\metrics\\_classification.py:1272: UndefinedMetricWarning: Precision is ill-defined and being set to 0.0 due to no predicted samples. Use `zero_division` parameter to control this behavior.\n",
      "  _warn_prf(average, modifier, msg_start, len(result))\n",
      "C:\\ProgramData\\Anaconda3\\lib\\site-packages\\sklearn\\metrics\\_classification.py:1272: UndefinedMetricWarning: Precision is ill-defined and being set to 0.0 due to no predicted samples. Use `zero_division` parameter to control this behavior.\n",
      "  _warn_prf(average, modifier, msg_start, len(result))\n",
      "C:\\ProgramData\\Anaconda3\\lib\\site-packages\\sklearn\\metrics\\_classification.py:1272: UndefinedMetricWarning: Precision is ill-defined and being set to 0.0 due to no predicted samples. Use `zero_division` parameter to control this behavior.\n",
      "  _warn_prf(average, modifier, msg_start, len(result))\n",
      "C:\\ProgramData\\Anaconda3\\lib\\site-packages\\sklearn\\metrics\\_classification.py:1272: UndefinedMetricWarning: Precision is ill-defined and being set to 0.0 due to no predicted samples. Use `zero_division` parameter to control this behavior.\n",
      "  _warn_prf(average, modifier, msg_start, len(result))\n",
      "C:\\ProgramData\\Anaconda3\\lib\\site-packages\\sklearn\\metrics\\_classification.py:1272: UndefinedMetricWarning: Precision is ill-defined and being set to 0.0 due to no predicted samples. Use `zero_division` parameter to control this behavior.\n",
      "  _warn_prf(average, modifier, msg_start, len(result))\n",
      "C:\\ProgramData\\Anaconda3\\lib\\site-packages\\sklearn\\metrics\\_classification.py:1272: UndefinedMetricWarning: Precision is ill-defined and being set to 0.0 due to no predicted samples. Use `zero_division` parameter to control this behavior.\n",
      "  _warn_prf(average, modifier, msg_start, len(result))\n",
      "C:\\ProgramData\\Anaconda3\\lib\\site-packages\\sklearn\\metrics\\_classification.py:1272: UndefinedMetricWarning: Precision is ill-defined and being set to 0.0 due to no predicted samples. Use `zero_division` parameter to control this behavior.\n",
      "  _warn_prf(average, modifier, msg_start, len(result))\n",
      "C:\\ProgramData\\Anaconda3\\lib\\site-packages\\sklearn\\metrics\\_classification.py:1272: UndefinedMetricWarning: Precision is ill-defined and being set to 0.0 due to no predicted samples. Use `zero_division` parameter to control this behavior.\n",
      "  _warn_prf(average, modifier, msg_start, len(result))\n",
      "C:\\ProgramData\\Anaconda3\\lib\\site-packages\\sklearn\\metrics\\_classification.py:1272: UndefinedMetricWarning: Precision is ill-defined and being set to 0.0 due to no predicted samples. Use `zero_division` parameter to control this behavior.\n",
      "  _warn_prf(average, modifier, msg_start, len(result))\n",
      "C:\\ProgramData\\Anaconda3\\lib\\site-packages\\sklearn\\metrics\\_classification.py:1272: UndefinedMetricWarning: Precision is ill-defined and being set to 0.0 due to no predicted samples. Use `zero_division` parameter to control this behavior.\n",
      "  _warn_prf(average, modifier, msg_start, len(result))\n",
      "C:\\ProgramData\\Anaconda3\\lib\\site-packages\\sklearn\\metrics\\_classification.py:1272: UndefinedMetricWarning: Precision is ill-defined and being set to 0.0 due to no predicted samples. Use `zero_division` parameter to control this behavior.\n",
      "  _warn_prf(average, modifier, msg_start, len(result))\n",
      "C:\\ProgramData\\Anaconda3\\lib\\site-packages\\sklearn\\metrics\\_classification.py:1272: UndefinedMetricWarning: Precision is ill-defined and being set to 0.0 due to no predicted samples. Use `zero_division` parameter to control this behavior.\n",
      "  _warn_prf(average, modifier, msg_start, len(result))\n",
      "C:\\ProgramData\\Anaconda3\\lib\\site-packages\\sklearn\\metrics\\_classification.py:1272: UndefinedMetricWarning: Precision is ill-defined and being set to 0.0 due to no predicted samples. Use `zero_division` parameter to control this behavior.\n",
      "  _warn_prf(average, modifier, msg_start, len(result))\n",
      "C:\\ProgramData\\Anaconda3\\lib\\site-packages\\sklearn\\metrics\\_classification.py:1272: UndefinedMetricWarning: Precision is ill-defined and being set to 0.0 due to no predicted samples. Use `zero_division` parameter to control this behavior.\n",
      "  _warn_prf(average, modifier, msg_start, len(result))\n",
      "C:\\ProgramData\\Anaconda3\\lib\\site-packages\\sklearn\\metrics\\_classification.py:1272: UndefinedMetricWarning: Precision is ill-defined and being set to 0.0 due to no predicted samples. Use `zero_division` parameter to control this behavior.\n",
      "  _warn_prf(average, modifier, msg_start, len(result))\n",
      "C:\\ProgramData\\Anaconda3\\lib\\site-packages\\sklearn\\metrics\\_classification.py:1272: UndefinedMetricWarning: Precision is ill-defined and being set to 0.0 due to no predicted samples. Use `zero_division` parameter to control this behavior.\n",
      "  _warn_prf(average, modifier, msg_start, len(result))\n"
     ]
    }
   ],
   "source": [
    "from sklearn.model_selection import RandomizedSearchCV\n",
    "from math import log\n",
    "MOD = RandomForestClassifier(n_jobs=-1) \n",
    "#Implement RandomSearchCV\n",
    "m_params = { \n",
    "            \"RF\": {\n",
    "                    \"n_estimators\" : np.linspace(100, 500,50, dtype = \"int\"),  \n",
    "                    \"max_depth\": [5, 20, 30, None], \n",
    "                    \"min_samples_split\": np.linspace(2, 50, 50, dtype = \"int\"),  \n",
    "                    \"max_features\": [\"sqrt\", \"log2\",10, 20, None],\n",
    "                    \"oob_score\": [True],\n",
    "                    \"bootstrap\": [True]\n",
    "                    },\n",
    "            }\n",
    "scoreFunction = {\"recall\": \"recall\", \"precision\": \"precision\"}\n",
    "random_search = RandomizedSearchCV(MOD,\n",
    "                                   param_distributions = m_params[\"RF\"], \n",
    "                                   n_iter = 20,\n",
    "                                   scoring = scoreFunction,               \n",
    "                                   refit = \"recall\",\n",
    "                                   return_train_score = True,\n",
    "                                   random_state = 42,\n",
    "                                   cv = 5) \n",
    "\n",
    "#trains and optimizes the model\n",
    "random_search.fit(train_X, train_y)\n",
    "#recover the best model\n",
    "MOD = random_search.best_estimator_"
   ]
  },
  {
   "cell_type": "code",
   "execution_count": 61,
   "metadata": {},
   "outputs": [
    {
     "data": {
      "text/plain": [
       "Information Technology and Services    1734\n",
       "Computer Software                      1376\n",
       "Internet                               1062\n",
       "Marketing and Advertising               828\n",
       "Education Management                    822\n",
       "Financial Services                      779\n",
       "Hospital & Health Care                  497\n",
       "Consumer Services                       358\n",
       "Telecommunications                      342\n",
       "Oil & Energy                            287\n",
       "Retail                                  223\n",
       "Real Estate                             175\n",
       "Accounting                              159\n",
       "Construction                            158\n",
       "E-Learning                              139\n",
       "Management Consulting                   130\n",
       "Design                                  129\n",
       "Staffing and Recruiting                 127\n",
       "Health, Wellness and Fitness            127\n",
       "Insurance                               123\n",
       "Name: industry, dtype: int64"
      ]
     },
     "execution_count": 61,
     "metadata": {},
     "output_type": "execute_result"
    }
   ],
   "source": [
    "fake_jobs = "
   ]
  },
  {
   "cell_type": "code",
   "execution_count": 32,
   "metadata": {},
   "outputs": [
    {
     "data": {
      "text/plain": [
       "RandomForestClassifier(bootstrap=True, ccp_alpha=0.0, class_weight=None,\n",
       "                       criterion='gini', max_depth=30, max_features=None,\n",
       "                       max_leaf_nodes=None, max_samples=None,\n",
       "                       min_impurity_decrease=0.0, min_impurity_split=None,\n",
       "                       min_samples_leaf=1, min_samples_split=44,\n",
       "                       min_weight_fraction_leaf=0.0, n_estimators=459,\n",
       "                       n_jobs=-1, oob_score=True, random_state=None, verbose=0,\n",
       "                       warm_start=False)"
      ]
     },
     "execution_count": 32,
     "metadata": {},
     "output_type": "execute_result"
    }
   ],
   "source": [
    "MOD.fit(train_X,train_y)"
   ]
  },
  {
   "cell_type": "code",
   "execution_count": 34,
   "metadata": {},
   "outputs": [
    {
     "name": "stdout",
     "output_type": "stream",
     "text": [
      "Train Data Accuracy :  0.9801454138702461\n",
      "Test Data   :  0.9686800894854586\n",
      "\n",
      "Confusion Matrix of Train Data :  [[13590    22]\n",
      " [  262   430]]\n",
      "Confusion Matrix of Test Data :  [[3385   17]\n",
      " [  95   79]]\n",
      "\n",
      "Train Data Precision :  0.9513274336283186\n",
      "Test Data Precision :  0.8229166666666666\n",
      "\n",
      "Train Data Recall :  0.6213872832369942\n",
      "Test Data Recall :  0.4540229885057471\n",
      "\n"
     ]
    }
   ],
   "source": [
    "y_train_pred = MOD.predict(train_X)\n",
    "y_test_pred = MOD.predict(test_X)\n",
    "#evalute the model\n",
    "print('Train Data Accuracy : ',accuracy_score(train_y,y_train_pred))\n",
    "print('Test Data   : ',accuracy_score(test_y,y_test_pred))\n",
    "\n",
    "print()\n",
    "print('Confusion Matrix of Train Data : ',confusion_matrix(train_y,y_train_pred))\n",
    "print('Confusion Matrix of Test Data : ',confusion_matrix(test_y,y_test_pred))\n",
    "print()\n",
    "#pricision and recall for test and train data\n",
    "print('Train Data Precision : ',precision_score(train_y,y_train_pred))\n",
    "print('Test Data Precision : ',precision_score(test_y,y_test_pred))\n",
    "print()\n",
    "print('Train Data Recall : ',recall_score(train_y,y_train_pred))\n",
    "print('Test Data Recall : ',recall_score(test_y,y_test_pred))\n",
    "print()"
   ]
  },
  {
   "cell_type": "code",
   "execution_count": 5,
   "metadata": {},
   "outputs": [
    {
     "data": {
      "text/html": [
       "<div>\n",
       "<style scoped>\n",
       "    .dataframe tbody tr th:only-of-type {\n",
       "        vertical-align: middle;\n",
       "    }\n",
       "\n",
       "    .dataframe tbody tr th {\n",
       "        vertical-align: top;\n",
       "    }\n",
       "\n",
       "    .dataframe thead th {\n",
       "        text-align: right;\n",
       "    }\n",
       "</style>\n",
       "<table border=\"1\" class=\"dataframe\">\n",
       "  <thead>\n",
       "    <tr style=\"text-align: right;\">\n",
       "      <th></th>\n",
       "      <th>telecommuting</th>\n",
       "      <th>has_company_logo</th>\n",
       "      <th>has_questions</th>\n",
       "      <th>Contract</th>\n",
       "      <th>Full-time</th>\n",
       "      <th>Other</th>\n",
       "      <th>Part-time</th>\n",
       "      <th>Temporary</th>\n",
       "      <th>no_info_about_employment</th>\n",
       "      <th>Associate</th>\n",
       "      <th>...</th>\n",
       "      <th>working</th>\n",
       "      <th>world</th>\n",
       "      <th>would</th>\n",
       "      <th>writing</th>\n",
       "      <th>written</th>\n",
       "      <th>written communication</th>\n",
       "      <th>written verbal</th>\n",
       "      <th>year</th>\n",
       "      <th>your</th>\n",
       "      <th>fraudulent</th>\n",
       "    </tr>\n",
       "  </thead>\n",
       "  <tbody>\n",
       "    <tr>\n",
       "      <th>0</th>\n",
       "      <td>0</td>\n",
       "      <td>1</td>\n",
       "      <td>0</td>\n",
       "      <td>0</td>\n",
       "      <td>0</td>\n",
       "      <td>0</td>\n",
       "      <td>1</td>\n",
       "      <td>0</td>\n",
       "      <td>0</td>\n",
       "      <td>0</td>\n",
       "      <td>...</td>\n",
       "      <td>0.000000</td>\n",
       "      <td>0.00000</td>\n",
       "      <td>0.0</td>\n",
       "      <td>0.000000</td>\n",
       "      <td>0.000000</td>\n",
       "      <td>0.000000</td>\n",
       "      <td>0.0</td>\n",
       "      <td>0.000000</td>\n",
       "      <td>0.000000</td>\n",
       "      <td>0</td>\n",
       "    </tr>\n",
       "    <tr>\n",
       "      <th>1</th>\n",
       "      <td>0</td>\n",
       "      <td>0</td>\n",
       "      <td>1</td>\n",
       "      <td>0</td>\n",
       "      <td>1</td>\n",
       "      <td>0</td>\n",
       "      <td>0</td>\n",
       "      <td>0</td>\n",
       "      <td>0</td>\n",
       "      <td>0</td>\n",
       "      <td>...</td>\n",
       "      <td>0.000000</td>\n",
       "      <td>0.00000</td>\n",
       "      <td>0.0</td>\n",
       "      <td>0.000000</td>\n",
       "      <td>0.000000</td>\n",
       "      <td>0.000000</td>\n",
       "      <td>0.0</td>\n",
       "      <td>0.035676</td>\n",
       "      <td>0.000000</td>\n",
       "      <td>0</td>\n",
       "    </tr>\n",
       "    <tr>\n",
       "      <th>2</th>\n",
       "      <td>1</td>\n",
       "      <td>1</td>\n",
       "      <td>1</td>\n",
       "      <td>0</td>\n",
       "      <td>0</td>\n",
       "      <td>0</td>\n",
       "      <td>0</td>\n",
       "      <td>0</td>\n",
       "      <td>1</td>\n",
       "      <td>0</td>\n",
       "      <td>...</td>\n",
       "      <td>0.057891</td>\n",
       "      <td>0.00000</td>\n",
       "      <td>0.0</td>\n",
       "      <td>0.000000</td>\n",
       "      <td>0.000000</td>\n",
       "      <td>0.000000</td>\n",
       "      <td>0.0</td>\n",
       "      <td>0.048546</td>\n",
       "      <td>0.000000</td>\n",
       "      <td>0</td>\n",
       "    </tr>\n",
       "    <tr>\n",
       "      <th>3</th>\n",
       "      <td>0</td>\n",
       "      <td>1</td>\n",
       "      <td>0</td>\n",
       "      <td>0</td>\n",
       "      <td>1</td>\n",
       "      <td>0</td>\n",
       "      <td>0</td>\n",
       "      <td>0</td>\n",
       "      <td>0</td>\n",
       "      <td>0</td>\n",
       "      <td>...</td>\n",
       "      <td>0.000000</td>\n",
       "      <td>0.00000</td>\n",
       "      <td>0.0</td>\n",
       "      <td>0.000000</td>\n",
       "      <td>0.089392</td>\n",
       "      <td>0.000000</td>\n",
       "      <td>0.0</td>\n",
       "      <td>0.125214</td>\n",
       "      <td>0.151737</td>\n",
       "      <td>0</td>\n",
       "    </tr>\n",
       "    <tr>\n",
       "      <th>4</th>\n",
       "      <td>0</td>\n",
       "      <td>1</td>\n",
       "      <td>1</td>\n",
       "      <td>0</td>\n",
       "      <td>0</td>\n",
       "      <td>0</td>\n",
       "      <td>0</td>\n",
       "      <td>0</td>\n",
       "      <td>1</td>\n",
       "      <td>0</td>\n",
       "      <td>...</td>\n",
       "      <td>0.160310</td>\n",
       "      <td>0.00000</td>\n",
       "      <td>0.0</td>\n",
       "      <td>0.000000</td>\n",
       "      <td>0.095974</td>\n",
       "      <td>0.073133</td>\n",
       "      <td>0.0</td>\n",
       "      <td>0.033608</td>\n",
       "      <td>0.000000</td>\n",
       "      <td>0</td>\n",
       "    </tr>\n",
       "    <tr>\n",
       "      <th>...</th>\n",
       "      <td>...</td>\n",
       "      <td>...</td>\n",
       "      <td>...</td>\n",
       "      <td>...</td>\n",
       "      <td>...</td>\n",
       "      <td>...</td>\n",
       "      <td>...</td>\n",
       "      <td>...</td>\n",
       "      <td>...</td>\n",
       "      <td>...</td>\n",
       "      <td>...</td>\n",
       "      <td>...</td>\n",
       "      <td>...</td>\n",
       "      <td>...</td>\n",
       "      <td>...</td>\n",
       "      <td>...</td>\n",
       "      <td>...</td>\n",
       "      <td>...</td>\n",
       "      <td>...</td>\n",
       "      <td>...</td>\n",
       "      <td>...</td>\n",
       "    </tr>\n",
       "    <tr>\n",
       "      <th>95</th>\n",
       "      <td>0</td>\n",
       "      <td>1</td>\n",
       "      <td>0</td>\n",
       "      <td>0</td>\n",
       "      <td>1</td>\n",
       "      <td>0</td>\n",
       "      <td>0</td>\n",
       "      <td>0</td>\n",
       "      <td>0</td>\n",
       "      <td>0</td>\n",
       "      <td>...</td>\n",
       "      <td>0.000000</td>\n",
       "      <td>0.00000</td>\n",
       "      <td>0.0</td>\n",
       "      <td>0.000000</td>\n",
       "      <td>0.000000</td>\n",
       "      <td>0.000000</td>\n",
       "      <td>0.0</td>\n",
       "      <td>0.000000</td>\n",
       "      <td>0.000000</td>\n",
       "      <td>0</td>\n",
       "    </tr>\n",
       "    <tr>\n",
       "      <th>96</th>\n",
       "      <td>0</td>\n",
       "      <td>1</td>\n",
       "      <td>1</td>\n",
       "      <td>0</td>\n",
       "      <td>0</td>\n",
       "      <td>0</td>\n",
       "      <td>0</td>\n",
       "      <td>0</td>\n",
       "      <td>1</td>\n",
       "      <td>0</td>\n",
       "      <td>...</td>\n",
       "      <td>0.000000</td>\n",
       "      <td>0.00000</td>\n",
       "      <td>0.0</td>\n",
       "      <td>0.117469</td>\n",
       "      <td>0.174152</td>\n",
       "      <td>0.000000</td>\n",
       "      <td>0.0</td>\n",
       "      <td>0.060985</td>\n",
       "      <td>0.000000</td>\n",
       "      <td>0</td>\n",
       "    </tr>\n",
       "    <tr>\n",
       "      <th>97</th>\n",
       "      <td>0</td>\n",
       "      <td>1</td>\n",
       "      <td>1</td>\n",
       "      <td>0</td>\n",
       "      <td>1</td>\n",
       "      <td>0</td>\n",
       "      <td>0</td>\n",
       "      <td>0</td>\n",
       "      <td>0</td>\n",
       "      <td>0</td>\n",
       "      <td>...</td>\n",
       "      <td>0.099678</td>\n",
       "      <td>0.07241</td>\n",
       "      <td>0.0</td>\n",
       "      <td>0.080503</td>\n",
       "      <td>0.000000</td>\n",
       "      <td>0.000000</td>\n",
       "      <td>0.0</td>\n",
       "      <td>0.041794</td>\n",
       "      <td>0.000000</td>\n",
       "      <td>0</td>\n",
       "    </tr>\n",
       "    <tr>\n",
       "      <th>98</th>\n",
       "      <td>0</td>\n",
       "      <td>1</td>\n",
       "      <td>1</td>\n",
       "      <td>0</td>\n",
       "      <td>0</td>\n",
       "      <td>0</td>\n",
       "      <td>0</td>\n",
       "      <td>0</td>\n",
       "      <td>1</td>\n",
       "      <td>0</td>\n",
       "      <td>...</td>\n",
       "      <td>0.000000</td>\n",
       "      <td>0.00000</td>\n",
       "      <td>0.0</td>\n",
       "      <td>0.000000</td>\n",
       "      <td>0.000000</td>\n",
       "      <td>0.000000</td>\n",
       "      <td>0.0</td>\n",
       "      <td>0.000000</td>\n",
       "      <td>0.000000</td>\n",
       "      <td>0</td>\n",
       "    </tr>\n",
       "    <tr>\n",
       "      <th>99</th>\n",
       "      <td>0</td>\n",
       "      <td>1</td>\n",
       "      <td>0</td>\n",
       "      <td>0</td>\n",
       "      <td>0</td>\n",
       "      <td>0</td>\n",
       "      <td>0</td>\n",
       "      <td>0</td>\n",
       "      <td>1</td>\n",
       "      <td>0</td>\n",
       "      <td>...</td>\n",
       "      <td>0.000000</td>\n",
       "      <td>0.00000</td>\n",
       "      <td>0.0</td>\n",
       "      <td>0.000000</td>\n",
       "      <td>0.000000</td>\n",
       "      <td>0.000000</td>\n",
       "      <td>0.0</td>\n",
       "      <td>0.000000</td>\n",
       "      <td>0.000000</td>\n",
       "      <td>0</td>\n",
       "    </tr>\n",
       "  </tbody>\n",
       "</table>\n",
       "<p>100 rows × 728 columns</p>\n",
       "</div>"
      ],
      "text/plain": [
       "    telecommuting  has_company_logo  has_questions  Contract  Full-time  \\\n",
       "0               0                 1              0         0          0   \n",
       "1               0                 0              1         0          1   \n",
       "2               1                 1              1         0          0   \n",
       "3               0                 1              0         0          1   \n",
       "4               0                 1              1         0          0   \n",
       "..            ...               ...            ...       ...        ...   \n",
       "95              0                 1              0         0          1   \n",
       "96              0                 1              1         0          0   \n",
       "97              0                 1              1         0          1   \n",
       "98              0                 1              1         0          0   \n",
       "99              0                 1              0         0          0   \n",
       "\n",
       "    Other  Part-time  Temporary  no_info_about_employment  Associate  ...  \\\n",
       "0       0          1          0                         0          0  ...   \n",
       "1       0          0          0                         0          0  ...   \n",
       "2       0          0          0                         1          0  ...   \n",
       "3       0          0          0                         0          0  ...   \n",
       "4       0          0          0                         1          0  ...   \n",
       "..    ...        ...        ...                       ...        ...  ...   \n",
       "95      0          0          0                         0          0  ...   \n",
       "96      0          0          0                         1          0  ...   \n",
       "97      0          0          0                         0          0  ...   \n",
       "98      0          0          0                         1          0  ...   \n",
       "99      0          0          0                         1          0  ...   \n",
       "\n",
       "     working    world  would   writing   written  written communication  \\\n",
       "0   0.000000  0.00000    0.0  0.000000  0.000000               0.000000   \n",
       "1   0.000000  0.00000    0.0  0.000000  0.000000               0.000000   \n",
       "2   0.057891  0.00000    0.0  0.000000  0.000000               0.000000   \n",
       "3   0.000000  0.00000    0.0  0.000000  0.089392               0.000000   \n",
       "4   0.160310  0.00000    0.0  0.000000  0.095974               0.073133   \n",
       "..       ...      ...    ...       ...       ...                    ...   \n",
       "95  0.000000  0.00000    0.0  0.000000  0.000000               0.000000   \n",
       "96  0.000000  0.00000    0.0  0.117469  0.174152               0.000000   \n",
       "97  0.099678  0.07241    0.0  0.080503  0.000000               0.000000   \n",
       "98  0.000000  0.00000    0.0  0.000000  0.000000               0.000000   \n",
       "99  0.000000  0.00000    0.0  0.000000  0.000000               0.000000   \n",
       "\n",
       "    written verbal      year      your  fraudulent  \n",
       "0              0.0  0.000000  0.000000           0  \n",
       "1              0.0  0.035676  0.000000           0  \n",
       "2              0.0  0.048546  0.000000           0  \n",
       "3              0.0  0.125214  0.151737           0  \n",
       "4              0.0  0.033608  0.000000           0  \n",
       "..             ...       ...       ...         ...  \n",
       "95             0.0  0.000000  0.000000           0  \n",
       "96             0.0  0.060985  0.000000           0  \n",
       "97             0.0  0.041794  0.000000           0  \n",
       "98             0.0  0.000000  0.000000           0  \n",
       "99             0.0  0.000000  0.000000           0  \n",
       "\n",
       "[100 rows x 728 columns]"
      ]
     },
     "execution_count": 5,
     "metadata": {},
     "output_type": "execute_result"
    }
   ],
   "source": [
    "pd.read_csv('./inputs/oversampled_train.csv').head(100)"
   ]
  },
  {
   "cell_type": "code",
   "execution_count": null,
   "metadata": {},
   "outputs": [],
   "source": []
  }
 ],
 "metadata": {
  "kernelspec": {
   "display_name": "Python 3",
   "language": "python",
   "name": "python3"
  },
  "language_info": {
   "codemirror_mode": {
    "name": "ipython",
    "version": 3
   },
   "file_extension": ".py",
   "mimetype": "text/x-python",
   "name": "python",
   "nbconvert_exporter": "python",
   "pygments_lexer": "ipython3",
   "version": "3.7.6"
  }
 },
 "nbformat": 4,
 "nbformat_minor": 2
}
